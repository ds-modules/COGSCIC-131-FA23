{
 "cells": [
  {
   "cell_type": "markdown",
   "metadata": {},
   "source": [
    "<div style=\"background-color: #c1f2a5\">\n",
    "\n",
    "\n",
    "# Part 1\n",
    "In Part 1 of the problem set, you will manipulate some basic numpy functions and practice plotting again.\n",
    "\n",
    "## Instructions\n",
    "\n",
    "\n",
    "\n",
    "Remember to do your problem set in Python 3. Fill in `#YOUR CODE HERE`.\n",
    "\n",
    "Make sure: \n",
    "- all plots are scaled in a way so that you can see what is going on \n",
    "- that the general patterns are fairly represented. \n",
    "- to label all x and y axes, and to include a title.\n",
    "    \n",
    "</div>"
   ]
  },
  {
   "cell_type": "code",
   "execution_count": null,
   "metadata": {},
   "outputs": [],
   "source": [
    "import numpy as np\n",
    "import matplotlib.pyplot as plt"
   ]
  },
  {
   "cell_type": "markdown",
   "metadata": {},
   "source": [
    "## Q1 [5pts,  HELP]\n",
    "Plot $y(x)=sin(2^x)$ for $x \\in [-5, 8]$, with $x$ sampled in increments of $0.01$."
   ]
  },
  {
   "cell_type": "code",
   "execution_count": null,
   "metadata": {},
   "outputs": [],
   "source": [
    "#YOUR CODE HERE\n",
    "\n",
    "figure, axis = plt.subplots()\n",
    "\n",
    "#YOUR CODE HERE\n",
    "\n",
    "figure.savefig('PS1_Q1.png')"
   ]
  },
  {
   "cell_type": "markdown",
   "metadata": {},
   "source": [
    "## Q2 [5pts, SOLO]\n",
    "Using $y(x)$ from the previous question, plot $g(x)=y(x)/y(x+1)$, with the same range of x values as Q1."
   ]
  },
  {
   "cell_type": "code",
   "execution_count": null,
   "metadata": {},
   "outputs": [],
   "source": [
    "#YOUR CODE HERE\n",
    "\n",
    "figure, axis = plt.subplots()\n",
    "\n",
    "#YOUR CODE HERE\n",
    "\n",
    "figure.savefig('PS1_Q2.png')"
   ]
  },
  {
   "cell_type": "markdown",
   "metadata": {},
   "source": [
    "## Q3.1 [5pts, HELP]\n",
    "\n",
    "Write a function that computes $f(n)=\\sum_{i=1}^n 1/(i+1)$. Copy your answer into Gradescope's 3.1 field."
   ]
  },
  {
   "cell_type": "code",
   "execution_count": null,
   "metadata": {},
   "outputs": [],
   "source": [
    "#YOUR CODE HERE\n"
   ]
  },
  {
   "cell_type": "markdown",
   "metadata": {},
   "source": [
    "## Q3.2 [5pts, SOLO]\n",
    "Plot function $f(n)$ for all integers from $n=1$ to $100$.\n"
   ]
  },
  {
   "cell_type": "code",
   "execution_count": null,
   "metadata": {},
   "outputs": [],
   "source": [
    "#YOUR CODE HERE\n",
    "\n",
    "figure, axis = plt.subplots()\n",
    "\n",
    "#YOUR CODE HERE\n",
    "\n",
    "figure.savefig('PS1_Q3_2.png') \n"
   ]
  },
  {
   "cell_type": "markdown",
   "metadata": {},
   "source": [
    "## Q4 [5pts, HELP]\n",
    "Plot a histogram of $sin(x)$ where $x$ is chosen from a standard normal distribution (mean = 0, sd = 1). Draw 10,000 samples to make the histogram."
   ]
  },
  {
   "cell_type": "code",
   "execution_count": null,
   "metadata": {},
   "outputs": [],
   "source": [
    "#YOUR CODE HERE\n",
    "\n",
    "figure, axis = plt.subplots()\n",
    "\n",
    "#YOUR CODE HERE\n",
    "\n",
    "figure.savefig('PS1_Q4.png') \n"
   ]
  },
  {
   "cell_type": "markdown",
   "metadata": {},
   "source": [
    "## Q5 [5pts, SOLO]\n",
    "Plot a histogram of $exp(x)$ where $x$ is chosen from a *uniform* distribution in $[0,1.5]$. Draw 10,000 samples to make the histogram."
   ]
  },
  {
   "cell_type": "code",
   "execution_count": null,
   "metadata": {},
   "outputs": [],
   "source": [
    "#YOUR CODE HERE\n",
    "\n",
    "figure, axis = plt.subplots()\n",
    "\n",
    "#YOUR CODE HERE\n",
    "\n",
    "figure.savefig('PS1_Q5.png') "
   ]
  },
  {
   "cell_type": "markdown",
   "metadata": {},
   "source": [
    "## Q6.1 [5pts, HELP]\n",
    "Create a numpy array of 1000 random samples from a standard normal distribution (mean = 0, standard deviation = 1). Sort the samples, and plot a histogram of the differences between the adjacent sorted elements (the difference between the first and the second, second and the third, third and the fourth, etc.). You may not use the numpy.diff function (please write this part yourself). You can use the built-in sorting function."
   ]
  },
  {
   "cell_type": "code",
   "execution_count": null,
   "metadata": {},
   "outputs": [],
   "source": [
    "#YOUR CODE HERE\n",
    "\n",
    "figure, axis = plt.subplots()\n",
    "\n",
    "#YOUR CODE HERE\n",
    "\n",
    "figure.savefig('PS1_Q6_1.png') "
   ]
  },
  {
   "cell_type": "markdown",
   "metadata": {},
   "source": [
    "## Q6.2  [5pts, SOLO]\n",
    "Plot the difference computed in 6.1 against its index\n"
   ]
  },
  {
   "cell_type": "code",
   "execution_count": null,
   "metadata": {},
   "outputs": [],
   "source": [
    "#YOUR CODE HERE\n",
    "\n",
    "figure, axis = plt.subplots()\n",
    "\n",
    "#YOUR CODE HERE\n",
    "\n",
    "figure.savefig('PS1_Q6_2.png') "
   ]
  },
  {
   "cell_type": "markdown",
   "metadata": {},
   "source": [
    "<div style=\"background-color: #c1f2a5\">\n",
    "\n",
    "\n",
    "# Part 2\n",
    "\n",
    "In this problem set, you will program a Rescorla-Wagner model and see how it captures some conditioning phenomena.\n",
    "\n",
    "## Instructions\n",
    "\n",
    "Remember to do your problem set in Python 3. Fill in `#YOUR CODE HERE`.\n",
    "\n",
    "Make sure: \n",
    "- that all plots are scaled in such a way that you can see what is going on \n",
    "- that the general patterns are fairly represented.\n",
    "- to label all x- and y-axes, and to include a title.\n",
    "\n",
    "</div>"
   ]
  },
  {
   "cell_type": "markdown",
   "metadata": {},
   "source": [
    "**In all of the questions below, please use $\\alpha_{light}=0.5$, $\\beta=0.1$, $V_0=0$ *unless* otherwise specified.**</span> \n",
    "\n",
    "Go over Lecture 3 if you don't know what these parameters mean."
   ]
  },
  {
   "cell_type": "markdown",
   "metadata": {},
   "source": [
    "## Q7.1 [10pts, HELP] \n",
    "Suppose that we repeatedly pair a light with food. Plot the association strength between light and food according to the Rescorla-Wagner model with an initial association $V_0 = 0.05$ and an initial association of $V_0 = 0.5$ (as two separate curves on the same plot). You can assume the strength of an observation $r = 1$. Plot 20 trials. Be sure to include a legend for the two different values of $V_0$."
   ]
  },
  {
   "cell_type": "code",
   "execution_count": null,
   "metadata": {},
   "outputs": [],
   "source": [
    "#YOUR CODE HERE\n",
    "\n",
    "figure, axis = plt.subplots()\n",
    "\n",
    "#YOUR CODE HERE\n",
    "\n",
    "figure.savefig('PS1_Q7_1.png')"
   ]
  },
  {
   "cell_type": "markdown",
   "metadata": {},
   "source": [
    "## Q7.2. [3pts, SOLO] \n",
    "How many trials will it take to reach $V_{light} = 0.8$ if the initial association is $V_0 = 0.05$? Plot the association strength for this number of trials. (Hint: you may want to use a \"while\" loop in this problem.)"
   ]
  },
  {
   "cell_type": "code",
   "execution_count": null,
   "metadata": {},
   "outputs": [],
   "source": [
    "#YOUR CODE HERE\n",
    "\n",
    "figure, axis = plt.subplots()\n",
    "\n",
    "#YOUR CODE HERE\n",
    "\n",
    "figure.savefig('PS1_Q7_2.png')"
   ]
  },
  {
   "cell_type": "markdown",
   "metadata": {},
   "source": [
    "## Q7.3. [5pts, SOLO] \n",
    "Suppose that starting from an initial association of $V_0 = 0.0$, it takes a 16 trials for the association between a light and food to exceed $0.8$, what is the salience (i.e., the $\\alpha$ parameter)? It is acceptable to solve this question numerically. Please copy your code into Gradescope."
   ]
  },
  {
   "cell_type": "code",
   "execution_count": null,
   "metadata": {},
   "outputs": [],
   "source": [
    "#YOUR CODE HERE"
   ]
  },
  {
   "cell_type": "markdown",
   "metadata": {},
   "source": [
    "## Q8. [10pts, SOLO] \n",
    "Suppose that you begin with an association between a light and food of $0.8$. Now, you want to teach a new association between a bell and food while the light is present (thus you pair light, food, bell all together). Plot the association strength between bell and food as a function of the number of trials when $\\alpha_{bell}=0.2$. Plot 30 trials."
   ]
  },
  {
   "cell_type": "code",
   "execution_count": null,
   "metadata": {},
   "outputs": [],
   "source": [
    "#YOUR CODE HERE\n",
    "\n",
    "figure, axis = plt.subplots()\n",
    "\n",
    "#YOUR CODE HERE\n",
    "\n",
    "figure.savefig('PS1_Q8.png')"
   ]
  },
  {
   "cell_type": "markdown",
   "metadata": {},
   "source": [
    "## Q9.1. [10pts, HELP] \n",
    "Suppose that you repeatedly alternate trials such that a bell is paired with food on one trial and no food on the next. What will the association strength be if you keep doing this for a long time? Make a plot (50 trials) of what will happen and provide an intuitive explanation for why that may be the case in Gradescope. Use the same $\\alpha_{bell} = 0.2$. "
   ]
  },
  {
   "cell_type": "code",
   "execution_count": null,
   "metadata": {},
   "outputs": [],
   "source": [
    "#YOUR CODE HERE\n",
    "\n",
    "figure, axis = plt.subplots()\n",
    "\n",
    "#YOUR CODE HERE\n",
    "\n",
    "figure.savefig('PS1_Q9_1.png')"
   ]
  },
  {
   "cell_type": "markdown",
   "metadata": {},
   "source": [
    "## Q9.2. [5pts, SOLO] \n",
    "\n",
    "Suppose that, on a given trial, you pair a bell with food with probability $P$ and no food with probability $1-P$. What will the association strength be after many trials of this? Explain in 2-3 sentences in Gradescope.\n",
    "\n",
    "In the same figure, plot three examples in three subplots. Use 100 trials for all examples and $P = 0.2, 0.6, 0.8$ for each example, respectively. Make sure to indicate the value of $P$ in the corresponding subplot title.\n",
    "\n",
    "Format your subplots as 3 rows, 1 column. Please use an overall figure size of (7,15) for the total figure object."
   ]
  },
  {
   "cell_type": "code",
   "execution_count": null,
   "metadata": {},
   "outputs": [],
   "source": [
    "#YOUR CODE HERE\n",
    "\n",
    "figure, axis = plt.subplots() # EDIT THIS CODE\n",
    "\n",
    "#YOUR CODE HERE\n",
    "axis[0].plot()#YOUR CODE HERE\n",
    "#YOUR CODE HERE\n",
    "\n",
    "\n",
    "figure.savefig('PS1_Q9_2.png')"
   ]
  },
  {
   "cell_type": "markdown",
   "metadata": {},
   "source": [
    "<div style=\"background-color: #c1f2a5\">\n",
    "\n",
    "# Submission\n",
    "\n",
    "    \n",
    "When you're done with your problem set, do the following:\n",
    "- Upload your answers in Gradescope's PS1.\n",
    "- Convert your Jupyter Notebook into a `.py` file by doing so:    \n",
    "    \n",
    "</div>\n",
    "\n",
    "\n",
    "<center>    \n",
    "  <img src=\"https://www.dropbox.com/s/7s189m4dsvu5j65/instruction.png?dl=1\" width=\"300\"/>\n",
    "</center>\n",
    "\n",
    "<div style=\"background-color: #c1f2a5\">\n",
    "    \n",
    "- Submit the `.py` file you just created in Gradescope's PS1-code.\n",
    "    \n",
    "</div>        \n",
    "\n",
    "\n",
    "\n",
    "\n",
    "</div>\n"
   ]
  }
 ],
 "metadata": {
  "kernelspec": {
   "display_name": "Python 3",
   "language": "python",
   "name": "python3"
  },
  "language_info": {
   "codemirror_mode": {
    "name": "ipython",
    "version": 3
   },
   "file_extension": ".py",
   "mimetype": "text/x-python",
   "name": "python",
   "nbconvert_exporter": "python",
   "pygments_lexer": "ipython3",
   "version": "3.8.8"
  }
 },
 "nbformat": 4,
 "nbformat_minor": 4
}
